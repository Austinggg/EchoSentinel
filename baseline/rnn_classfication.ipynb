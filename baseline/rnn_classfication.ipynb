{
 "cells": [
  {
   "cell_type": "markdown",
   "metadata": {},
   "source": [
    "确认设备以及cuda"
   ]
  },
  {
   "cell_type": "code",
   "execution_count": 5,
   "metadata": {},
   "outputs": [
    {
     "name": "stdout",
     "output_type": "stream",
     "text": [
      "2.6.0+cu126\n",
      "True\n",
      "cuda\n"
     ]
    }
   ],
   "source": [
    "import torch\n",
    "from torch import cuda,optim \n",
    "print(torch.__version__);\n",
    "print(torch.cuda.is_available())\n",
    "device = 'cuda' if cuda.is_available() else 'cpu'\n",
    "print(device)"
   ]
  },
  {
   "cell_type": "markdown",
   "metadata": {},
   "source": [
    "0 - negative\n",
    "1 - somewhat negative\n",
    "2 - neutral\n",
    "3 - somewhat positive\n",
    "4 - positive"
   ]
  },
  {
   "cell_type": "code",
   "execution_count": 6,
   "metadata": {},
   "outputs": [
    {
     "name": "stderr",
     "output_type": "stream",
     "text": [
      "C:\\Users\\Administrator\\AppData\\Local\\Temp\\ipykernel_29456\\304779165.py:3: FutureWarning: The behavior of 'to_datetime' with 'unit' when parsing strings is deprecated. In a future version, strings will be parsed as datetime strings, matching the behavior without a 'unit'. To retain the old behavior, explicitly cast ints or floats to numeric type before calling to_datetime.\n",
      "  df_train = pd.read_json('../weibo21_all.json', lines=True)\n",
      "C:\\Users\\Administrator\\AppData\\Local\\Temp\\ipykernel_29456\\304779165.py:3: FutureWarning: The behavior of 'to_datetime' with 'unit' when parsing strings is deprecated. In a future version, strings will be parsed as datetime strings, matching the behavior without a 'unit'. To retain the old behavior, explicitly cast ints or floats to numeric type before calling to_datetime.\n",
      "  df_train = pd.read_json('../weibo21_all.json', lines=True)\n",
      "C:\\Users\\Administrator\\AppData\\Local\\Temp\\ipykernel_29456\\304779165.py:3: FutureWarning: The behavior of 'to_datetime' with 'unit' when parsing strings is deprecated. In a future version, strings will be parsed as datetime strings, matching the behavior without a 'unit'. To retain the old behavior, explicitly cast ints or floats to numeric type before calling to_datetime.\n",
      "  df_train = pd.read_json('../weibo21_all.json', lines=True)\n"
     ]
    },
    {
     "data": {
      "text/html": [
       "<div>\n",
       "<style scoped>\n",
       "    .dataframe tbody tr th:only-of-type {\n",
       "        vertical-align: middle;\n",
       "    }\n",
       "\n",
       "    .dataframe tbody tr th {\n",
       "        vertical-align: top;\n",
       "    }\n",
       "\n",
       "    .dataframe thead th {\n",
       "        text-align: right;\n",
       "    }\n",
       "</style>\n",
       "<table border=\"1\" class=\"dataframe\">\n",
       "  <thead>\n",
       "    <tr style=\"text-align: right;\">\n",
       "      <th></th>\n",
       "      <th>id</th>\n",
       "      <th>label</th>\n",
       "      <th>category</th>\n",
       "      <th>images</th>\n",
       "      <th>content</th>\n",
       "      <th>timestamp</th>\n",
       "    </tr>\n",
       "  </thead>\n",
       "  <tbody>\n",
       "    <tr>\n",
       "      <th>0</th>\n",
       "      <td>100000</td>\n",
       "      <td>0</td>\n",
       "      <td>0</td>\n",
       "      <td>[{'path': 'image/100000_0.jpg'}, {'path': 'ima...</td>\n",
       "      <td>【三星折叠屏原型机曝光：双屏设计/非柔性屏】网友@黎启lee晒出三星的ProjcetV可折叠...</td>\n",
       "      <td>1970-01-18 16:46:49.446</td>\n",
       "    </tr>\n",
       "    <tr>\n",
       "      <th>1</th>\n",
       "      <td>100001</td>\n",
       "      <td>0</td>\n",
       "      <td>0</td>\n",
       "      <td>[{'path': 'image/100001_0.jpg'}]</td>\n",
       "      <td>【能电鱼，更能电力找鱼：别以为电鳗只有把鱼电晕一招！】电鳗2米长的身体里有许多专门发电的细胞...</td>\n",
       "      <td>1970-01-17 18:11:57.263</td>\n",
       "    </tr>\n",
       "    <tr>\n",
       "      <th>2</th>\n",
       "      <td>100002</td>\n",
       "      <td>0</td>\n",
       "      <td>0</td>\n",
       "      <td>[{'path': 'image/100002_0.jpg'}]</td>\n",
       "      <td>在iPad2发售几小时后，国外玩家就已经对它进行了拆解。想了解如此轻薄的机身如何容纳下这么多...</td>\n",
       "      <td>1970-01-16 01:04:58.932</td>\n",
       "    </tr>\n",
       "    <tr>\n",
       "      <th>3</th>\n",
       "      <td>100003</td>\n",
       "      <td>0</td>\n",
       "      <td>0</td>\n",
       "      <td>[{'path': 'image/100003_0.jpg'}]</td>\n",
       "      <td>#乐享时光#现在科学家都这么闲了吗?谢谢你告诉我这么重要的结论啊！（转）</td>\n",
       "      <td>1970-01-17 13:05:04.203</td>\n",
       "    </tr>\n",
       "    <tr>\n",
       "      <th>4</th>\n",
       "      <td>100004</td>\n",
       "      <td>0</td>\n",
       "      <td>0</td>\n",
       "      <td>[{'path': 'image/100004_0.jpg'}]</td>\n",
       "      <td>全国首家“无人银行”亮相大堂经理是智能机器人银行里没有忙碌的工作人员和拥挤的排队客户，而是各...</td>\n",
       "      <td>1970-01-18 15:12:18.840</td>\n",
       "    </tr>\n",
       "  </tbody>\n",
       "</table>\n",
       "</div>"
      ],
      "text/plain": [
       "       id  label  category                                             images  \\\n",
       "0  100000      0         0  [{'path': 'image/100000_0.jpg'}, {'path': 'ima...   \n",
       "1  100001      0         0                   [{'path': 'image/100001_0.jpg'}]   \n",
       "2  100002      0         0                   [{'path': 'image/100002_0.jpg'}]   \n",
       "3  100003      0         0                   [{'path': 'image/100003_0.jpg'}]   \n",
       "4  100004      0         0                   [{'path': 'image/100004_0.jpg'}]   \n",
       "\n",
       "                                             content               timestamp  \n",
       "0  【三星折叠屏原型机曝光：双屏设计/非柔性屏】网友@黎启lee晒出三星的ProjcetV可折叠... 1970-01-18 16:46:49.446  \n",
       "1  【能电鱼，更能电力找鱼：别以为电鳗只有把鱼电晕一招！】电鳗2米长的身体里有许多专门发电的细胞... 1970-01-17 18:11:57.263  \n",
       "2  在iPad2发售几小时后，国外玩家就已经对它进行了拆解。想了解如此轻薄的机身如何容纳下这么多... 1970-01-16 01:04:58.932  \n",
       "3               #乐享时光#现在科学家都这么闲了吗?谢谢你告诉我这么重要的结论啊！（转） 1970-01-17 13:05:04.203  \n",
       "4  全国首家“无人银行”亮相大堂经理是智能机器人银行里没有忙碌的工作人员和拥挤的排队客户，而是各... 1970-01-18 15:12:18.840  "
      ]
     },
     "execution_count": 6,
     "metadata": {},
     "output_type": "execute_result"
    }
   ],
   "source": [
    "import pandas as pd\n",
    "from torch.utils.data import Dataset, DataLoader,random_split\n",
    "df_train = pd.read_json('../weibo21_all.json', lines=True)\n",
    "df_train.head()"
   ]
  },
  {
   "cell_type": "markdown",
   "metadata": {},
   "source": [
    "提取标签以及输入"
   ]
  },
  {
   "cell_type": "code",
   "execution_count": 7,
   "metadata": {},
   "outputs": [
    {
     "name": "stdout",
     "output_type": "stream",
     "text": [
      "[0 1]\n"
     ]
    }
   ],
   "source": [
    "X = df_train['content']\n",
    "Y = df_train['label'] \n",
    "print(df_train['label'].unique())"
   ]
  },
  {
   "cell_type": "markdown",
   "metadata": {},
   "source": [
    "加载bert作为分词模型"
   ]
  },
  {
   "cell_type": "code",
   "execution_count": 8,
   "metadata": {},
   "outputs": [],
   "source": [
    "from transformers import AutoTokenizer\n",
    "# 指定本地路径加载 tokenizer\n",
    "tokenizer = AutoTokenizer.from_pretrained(\"E:/mod/bert-base-uncased\")"
   ]
  },
  {
   "cell_type": "code",
   "execution_count": 9,
   "metadata": {},
   "outputs": [],
   "source": [
    "from torch import nn\n",
    "import torch\n",
    "class SentimentDataset(Dataset):\n",
    "    def __init__(self, sentences, labels, tokenizer, max_length):\n",
    "        self.sentences = sentences\n",
    "        self.labels = labels\n",
    "        self.tokenizer = tokenizer\n",
    "        self.max_length = max_length\n",
    "\n",
    "    def __len__(self):\n",
    "        return len(self.sentences)\n",
    "\n",
    "    def __getitem__(self, idx):\n",
    "        # 使用 BERT tokenizer 对句子进行编码，生成 input_ids\n",
    "        encoding = self.tokenizer(\n",
    "            self.sentences[idx],                      # 输入句子\n",
    "            add_special_tokens=True,                  # 添加特殊 tokens (CLS, SEP)\n",
    "            max_length=self.max_length,               # 设置最大长度\n",
    "            padding='max_length',                     # 填充到最大长度\n",
    "            truncation=True,                          # 截断长句子\n",
    "            return_attention_mask=False,              # 不需要 attention mask，因为 RNN 不使用\n",
    "            return_tensors='pt'                       # 返回 PyTorch tensors\n",
    "        )\n",
    "        \n",
    "        input_ids = encoding['input_ids'].squeeze()  # 获得 input_ids\n",
    "        label = torch.tensor(self.labels[idx], dtype=torch.long)  # 标签转换为张量\n",
    "\n",
    "        return input_ids, label\n"
   ]
  },
  {
   "cell_type": "code",
   "execution_count": 10,
   "metadata": {},
   "outputs": [
    {
     "name": "stdout",
     "output_type": "stream",
     "text": [
      "torch.Size([64, 128])\n",
      "torch.Size([64])\n"
     ]
    }
   ],
   "source": [
    "# 最大句子长度\n",
    "max_length = 128\n",
    "\n",
    "# 创建 Dataset 实例\n",
    "train_dataset = SentimentDataset(X, Y, tokenizer=tokenizer, max_length=max_length)\n",
    "\n",
    "# 设置训练集和验证集的比例，比如 80% 训练集，20% 验证集\n",
    "train_size = int(0.8 * len(train_dataset))\n",
    "val_size = len(train_dataset) - train_size\n",
    "\n",
    "# 拆分数据集\n",
    "train_subset, val_subset = random_split(train_dataset, [train_size, val_size])\n",
    "\n",
    "# 创建 DataLoader\n",
    "train_loader = DataLoader(train_subset, batch_size=64, shuffle=True)\n",
    "val_loader = DataLoader(val_subset, batch_size=64, shuffle=False)\n",
    "\n",
    "\n",
    "# 查看一个 batch 的数据\n",
    "for batch in train_loader:\n",
    "    input_ids, labels = batch  # 根据前面的实现，数据不再有 attention_masks\n",
    "    print(input_ids.shape)  # (batch_size, max_len)\n",
    "    print(labels.shape)  # (batch_size)\n",
    "    break\n"
   ]
  },
  {
   "cell_type": "code",
   "execution_count": null,
   "metadata": {},
   "outputs": [],
   "source": [
    "# 这个 RNN 类采用了嵌入层、GRU 和全连接层的结构来进行序列建模。\n",
    "# 1. 输入首先通过 nn.Embedding 将离散的词索引转换为连续的词向量表示；\n",
    "# 2. 接着，将嵌入后的表示经过 dropout 处理，然后送入多层 GRU 网络中进行时序建模，\n",
    "#    GRU 同样采用了 dropout 来防止过拟合；\n",
    "# 3. 最后，仅取 GRU 最后一个时间步的输出，经过 dropout 后通过全连接层映射到输出空间，\n",
    "#    一般用于分类或回归任务。\n",
    "class RNN(nn.Module):\n",
    "    def __init__(self, input_size, hidden_size, output_size, n_layers=3, dropout=0.5):\n",
    "        super(RNN, self).__init__()\n",
    "        self.input_size = input_size\n",
    "        self.hidden_size = hidden_size\n",
    "        self.output_size = output_size\n",
    "        self.n_layers = n_layers\n",
    "        self.dropout = dropout\n",
    "\n",
    "        self.embedding = nn.Embedding(input_size, hidden_size)\n",
    "        self.gru = nn.GRU(hidden_size, hidden_size, n_layers, batch_first=True, dropout=dropout)\n",
    "        self.dropout_layer = nn.Dropout(dropout)\n",
    "        self.linear = nn.Linear(hidden_size, output_size)\n",
    "\n",
    "    def forward(self, input, hidden):\n",
    "        embed = self.embedding(input)  # (batch_size, seq_len, hidden_size)\n",
    "        embed = self.dropout_layer(embed)  # Apply dropout to embeddings\n",
    "        output, hidden = self.gru(embed, hidden)  # GRU with dropout\n",
    "        output = self.dropout_layer(output)  # Apply dropout to GRU output\n",
    "        output = self.linear(output[:, -1, :])  # Only take the output of the last time step\n",
    "        return output, hidden\n",
    "\n",
    "    def init_hidden(self, batch_size):\n",
    "        # Initialize hidden state, shape should be (n_layers, batch_size, hidden_size)\n",
    "        hidden = torch.zeros(self.n_layers, batch_size, self.hidden_size).to(device)\n",
    "        return hidden"
   ]
  },
  {
   "cell_type": "code",
   "execution_count": 12,
   "metadata": {},
   "outputs": [],
   "source": [
    "# 定义模型参数\n",
    "input_size = 30522  # BERT 词汇表的大小\n",
    "hidden_size = 128   # 隐层大小\n",
    "output_size = len(df_train['label'].unique())  # 类别数量\n",
    "n_layers = 3        # GRU 层数\n",
    "# 实例化模型\n",
    "model = RNN(input_size, hidden_size, output_size, n_layers)\n",
    "model.to(device)\n",
    "# 定义损失函数和优化器\n",
    "criterion = nn.CrossEntropyLoss()\n",
    "\n",
    "optimizer = optim.Adam(model.parameters(), lr=0.001)"
   ]
  },
  {
   "cell_type": "code",
   "execution_count": 13,
   "metadata": {},
   "outputs": [],
   "source": [
    "# 定义评估函数\n",
    "from sklearn.metrics import accuracy_score\n",
    "import torch.nn.functional as F\n",
    "def evaluate(model, val_loader):\n",
    "    model.eval()  # 设置模型为评估模式\n",
    "    predictions, true_labels = [], []\n",
    "    \n",
    "    with torch.no_grad():  # 不需要计算梯度\n",
    "        for batch in val_loader:\n",
    "            input_ids, labels = [x.to(device) for x in batch]\n",
    "            \n",
    "            # 初始化隐藏状态\n",
    "            hidden = model.init_hidden(input_ids.size(0))\n",
    "            \n",
    "            # 前向传播\n",
    "            outputs, hidden = model(input_ids, hidden)\n",
    "            \n",
    "            # 记录模型的预测值（取概率最大的类别）\n",
    "            preds = F.softmax(outputs, dim=1).argmax(dim=1)\n",
    "            predictions.extend(preds.cpu().numpy())\n",
    "            true_labels.extend(labels.cpu().numpy())\n",
    "    \n",
    "    # 计算准确率\n",
    "    accuracy = accuracy_score(true_labels, predictions)\n",
    "    return accuracy"
   ]
  },
  {
   "cell_type": "code",
   "execution_count": null,
   "metadata": {},
   "outputs": [
    {
     "name": "stdout",
     "output_type": "stream",
     "text": [
      "Epoch 1/100, Loss: 0.6827, Validation Accuracy: 0.5947\n",
      "Epoch 2/100, Loss: 0.6708, Validation Accuracy: 0.6166\n",
      "Epoch 3/100, Loss: 0.6222, Validation Accuracy: 0.7010\n",
      "Epoch 4/100, Loss: 0.5788, Validation Accuracy: 0.6900\n",
      "Epoch 5/100, Loss: 0.5414, Validation Accuracy: 0.7464\n",
      "Epoch 6/100, Loss: 0.5249, Validation Accuracy: 0.7585\n",
      "Epoch 7/100, Loss: 0.5059, Validation Accuracy: 0.7705\n",
      "Epoch 8/100, Loss: 0.4800, Validation Accuracy: 0.7656\n",
      "Epoch 9/100, Loss: 0.4554, Validation Accuracy: 0.7744\n",
      "Epoch 10/100, Loss: 0.4409, Validation Accuracy: 0.7963\n",
      "Epoch 11/100, Loss: 0.4244, Validation Accuracy: 0.7957\n",
      "Epoch 12/100, Loss: 0.4172, Validation Accuracy: 0.7985\n",
      "Epoch 13/100, Loss: 0.3980, Validation Accuracy: 0.7946\n",
      "Epoch 14/100, Loss: 0.3825, Validation Accuracy: 0.7996\n",
      "Epoch 15/100, Loss: 0.3657, Validation Accuracy: 0.8138\n",
      "Epoch 16/100, Loss: 0.3612, Validation Accuracy: 0.8012\n",
      "Epoch 17/100, Loss: 0.3440, Validation Accuracy: 0.8061\n",
      "Epoch 18/100, Loss: 0.3358, Validation Accuracy: 0.8050\n",
      "Epoch 19/100, Loss: 0.3168, Validation Accuracy: 0.8061\n",
      "Epoch 20/100, Loss: 0.3078, Validation Accuracy: 0.7859\n",
      "Epoch 21/100, Loss: 0.3109, Validation Accuracy: 0.7968\n",
      "Epoch 22/100, Loss: 0.2873, Validation Accuracy: 0.7793\n",
      "Epoch 23/100, Loss: 0.2823, Validation Accuracy: 0.7979\n",
      "Epoch 24/100, Loss: 0.2723, Validation Accuracy: 0.7946\n",
      "Epoch 25/100, Loss: 0.2692, Validation Accuracy: 0.8209\n",
      "Epoch 26/100, Loss: 0.2594, Validation Accuracy: 0.7875\n",
      "Epoch 27/100, Loss: 0.2513, Validation Accuracy: 0.8028\n",
      "Epoch 28/100, Loss: 0.2476, Validation Accuracy: 0.8050\n",
      "Epoch 29/100, Loss: 0.2377, Validation Accuracy: 0.8083\n",
      "Epoch 30/100, Loss: 0.2302, Validation Accuracy: 0.8127\n",
      "Epoch 31/100, Loss: 0.2226, Validation Accuracy: 0.8160\n",
      "Epoch 32/100, Loss: 0.2048, Validation Accuracy: 0.8056\n",
      "Epoch 33/100, Loss: 0.2004, Validation Accuracy: 0.8072\n",
      "Epoch 34/100, Loss: 0.2139, Validation Accuracy: 0.8094\n",
      "Epoch 35/100, Loss: 0.2042, Validation Accuracy: 0.8204\n",
      "Early stopping at epoch 35\n"
     ]
    },
    {
     "data": {
      "image/png": "[encoded data removed]",
      "text/plain": [
       "<Figure size 1200x500 with 2 Axes>"
      ]
     },
     "metadata": {},
     "output_type": "display_data"
    }
   ],
   "source": [
    "import matplotlib.pyplot as plt\n",
    "\n",
    "# 初始化存储损失和准确率的列表\n",
    "train_losses = []\n",
    "val_accuracies = []\n",
    "\n",
    "# Early stopping parameters\n",
    "patience = 10\n",
    "best_val_accuracy = 0\n",
    "patience_counter = 0\n",
    "\n",
    "# 训练模型的代码\n",
    "num_epochs = 100\n",
    "for epoch in range(num_epochs):\n",
    "    model.train()  # 设置模型为训练模式\n",
    "    epoch_loss = 0  # 每个 epoch 的损失初始化为 0\n",
    "    for batch in train_loader:\n",
    "        input_ids, labels = [x.to(device) for x in batch]\n",
    "        \n",
    "        # 初始化隐藏状态\n",
    "        hidden = model.init_hidden(input_ids.size(0))\n",
    "        \n",
    "        # 前向传播\n",
    "        outputs, hidden = model(input_ids, hidden)\n",
    "        \n",
    "        # 计算损失\n",
    "        loss = criterion(outputs, labels)\n",
    "        \n",
    "        # 反向传播和优化\n",
    "        optimizer.zero_grad()\n",
    "        loss.backward()\n",
    "        optimizer.step()\n",
    "\n",
    "        epoch_loss += loss.item()  # 累加当前 batch 的损失\n",
    "\n",
    "    # 计算每个 epoch 的平均损失\n",
    "    avg_loss = epoch_loss / len(train_loader)\n",
    "    train_losses.append(avg_loss)  # 记录平均损失\n",
    "\n",
    "    # 每个 epoch 后进行评估\n",
    "    val_accuracy = evaluate(model, val_loader)\n",
    "    val_accuracies.append(val_accuracy)  # 记录验证准确率\n",
    "    print(f'Epoch {epoch+1}/{num_epochs}, Loss: {avg_loss:.4f}, Validation Accuracy: {val_accuracy:.4f}')\n",
    "\n",
    "    # Early stopping logic\n",
    "    if val_accuracy > best_val_accuracy:\n",
    "        best_val_accuracy = val_accuracy\n",
    "        patience_counter = 0  # Reset patience counter\n",
    "    else:\n",
    "        patience_counter += 1\n",
    "        if patience_counter >= patience:\n",
    "            print(f'Early stopping at epoch {epoch+1}')\n",
    "            break\n",
    "\n",
    "# 绘制损失和验证准确率图\n",
    "plt.figure(figsize=(12, 5))\n",
    "\n",
    "# 绘制损失图\n",
    "plt.subplot(1, 2, 1)\n",
    "plt.plot(range(1, len(train_losses) + 1), train_losses, marker='o', color='b', label='Training Loss')\n",
    "plt.title('Training Loss')\n",
    "plt.xlabel('Epoch')\n",
    "plt.ylabel('Loss')\n",
    "plt.xticks(range(1, len(train_losses) + 1))  # 设置 x 轴刻度\n",
    "plt.grid()\n",
    "plt.legend()\n",
    "\n",
    "# 绘制验证准确率图\n",
    "plt.subplot(1, 2, 2)\n",
    "plt.plot(range(1, len(val_accuracies) + 1), val_accuracies, marker='o', color='g', label='Validation Accuracy')\n",
    "plt.title('Validation Accuracy')\n",
    "plt.xlabel('Epoch')\n",
    "plt.ylabel('Accuracy')\n",
    "plt.xticks(range(1, len(val_accuracies) + 1))  # 设置 x 轴刻度\n",
    "plt.ylim(0, 1)  # 限定 y 轴范围\n",
    "plt.grid()\n",
    "plt.legend()\n",
    "\n",
    "plt.tight_layout()  # 自动调整子图参数\n",
    "plt.show()  # 显示图\n"
   ]
  },
  {
   "cell_type": "code",
   "execution_count": null,
   "metadata": {},
   "outputs": [],
   "source": [
    "from sklearn.metrics import accuracy_score, f1_score, classification_report\n",
    "\n",
    "# 加载保存的最佳模型状态\n",
    "model.load_state_dict(torch.load(\"./models/best_model.pth\"))\n",
    "model.eval()\n",
    "\n",
    "all_preds = []\n",
    "all_labels = []\n",
    "\n",
    "with torch.no_grad():\n",
    "    for inputs, labels in val_loader:\n",
    "        outputs = model(inputs)\n",
    "        # 二分类预测（阈值 0.5）\n",
    "        preds = (outputs > 0.5).float()\n",
    "        all_preds.extend(preds.cpu().numpy())\n",
    "        all_labels.extend(labels.cpu().numpy())\n",
    "\n",
    "all_preds = np.array(all_preds)\n",
    "all_labels = np.array(all_labels)\n",
    "\n",
    "accuracy = accuracy_score(all_labels, all_preds)\n",
    "f1 = f1_score(all_labels, all_preds, average='binary')  # 二分类情况\n",
    "\n",
    "print(\"Validation Accuracy: {:.4f}\".format(accuracy))\n",
    "print(\"Validation F1 Score: {:.4f}\".format(f1))\n",
    "print(\"\\nClassification Report:\\n\", classification_report(all_labels, all_preds))"
   ]
  }
 ],
 "metadata": {
  "kernelspec": {
   "display_name": "base",
   "language": "python",
   "name": "python3"
  },
  "language_info": {
   "codemirror_mode": {
    "name": "ipython",
    "version": 3
   },
   "file_extension": ".py",
   "mimetype": "text/x-python",
   "name": "python",
   "nbconvert_exporter": "python",
   "pygments_lexer": "ipython3",
   "version": "3.12.4"
  }
 },
 "nbformat": 4,
 "nbformat_minor": 2
}
